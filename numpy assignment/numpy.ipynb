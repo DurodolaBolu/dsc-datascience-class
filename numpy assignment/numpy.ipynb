{
 "cells": [
  {
   "cell_type": "code",
   "execution_count": 1,
   "metadata": {},
   "outputs": [],
   "source": [
    "import numpy as np"
   ]
  },
  {
   "cell_type": "code",
   "execution_count": 2,
   "metadata": {},
   "outputs": [],
   "source": [
    "# Creating a numpy array from a single list to get a 1-D array\n",
    "my_list=[3,4,5,8,4]\n",
    "create_1d_arr = np.array(my_list)\n",
    "\n",
    "#casting a list of list to get a 2-D array\n",
    "list_2 = [[4,5,6],[1,4,5],[9,0,1],[5,2,9]]\n",
    "create_2d_arr = np.array(list_2)"
   ]
  },
  {
   "cell_type": "code",
   "execution_count": 3,
   "metadata": {},
   "outputs": [],
   "source": [
    "# Creating Numpy array using arange() built in function\n",
    "list_3 = np.arange(20)\n",
    "\n",
    "# generating a 1-D  array of zeros and ones\n",
    "my_zeros = np.zeros(5)\n",
    "my_ones = np.ones(5)\n",
    "\n",
    "# creating a 2-D array of zeros\n",
    "two_d = np.zeros((4,3))"
   ]
  },
  {
   "cell_type": "code",
   "execution_count": 4,
   "metadata": {},
   "outputs": [],
   "source": [
    "# Creating Numpy array using linspace()\n",
    "lin_arr = np.linspace(1,10,14)\n",
    "\n",
    "# Creating an identity matrix using eye() function\n",
    "identity_mat = np.eye(5) # takes a single arg which means the tot num of rows and col\n",
    "\n",
    "\n",
    "# Generaing arrays of random numbers\n",
    "\n",
    "# rand() function generates random numbers btw 0-1 based on the specified shape\n",
    "my_rand1 = np.random.rand(4)\n",
    "\n",
    "# 2-D array using rand()\n",
    "my_rand2 = np.random.rand(3,5)\n",
    "\n",
    "# working with randn function\n",
    "my_rand3 = np.random.randn(5)\n",
    "\n",
    "# Working with randint() fucntion\n",
    "my_rand4 = np.random.randint(10)"
   ]
  },
  {
   "cell_type": "code",
   "execution_count": 5,
   "metadata": {},
   "outputs": [
    {
     "data": {
      "text/plain": [
       "(5,)"
      ]
     },
     "execution_count": 5,
     "metadata": {},
     "output_type": "execute_result"
    }
   ],
   "source": [
    "# Converting 1-D array to 2-D array using reshape\n",
    "convert = np.random.randn(25)\n",
    "convert.reshape(5,5)\n",
    "\n",
    "# Locating the maximum and minimum value in an array using max() and min()\n",
    "arr_1 = np.random.randint(0,20,15)\n",
    "arr_1.max() # this gives the largest value in the array\n",
    "arr_1.min() # this gives the lowest value in the array\n",
    "\n",
    "\n",
    "# using argmax() and argmin() to locate the index of the largest and lowest value\n",
    "arr_1.argmax() # index of highest value\n",
    "arr_1.argmin() # index of lowest value \n",
    "\n",
    "\n",
    "# check if an array is 1-D or 2-D,we use the shape function\n",
    "my_rand2.shape\n",
    "my_rand3.shape"
   ]
  },
  {
   "cell_type": "code",
   "execution_count": 6,
   "metadata": {},
   "outputs": [
    {
     "data": {
      "text/plain": [
       "array([ 5,  6,  7,  8,  9, 10, 11, 12, 13, 14, 15, 16, 17, 18, 19])"
      ]
     },
     "execution_count": 6,
     "metadata": {},
     "output_type": "execute_result"
    }
   ],
   "source": [
    "# Indexing or seleceting elements from a numpy array\n",
    "my_array = np.arange(0,20)\n",
    "my_array[4] # element at index 4\n",
    "\n",
    "# we use slice ':' notattion to get range of values in an array\n",
    "my_array[2:4] # elements btwn index 2 and 4-1\n",
    "\n",
    "my_array[:5] # elements between the start of the array and index 5-1\n",
    "\n",
    "my_array[5:] # range of elemets starting from index 5 till the end of the array\n"
   ]
  },
  {
   "cell_type": "code",
   "execution_count": 7,
   "metadata": {},
   "outputs": [
    {
     "data": {
      "text/plain": [
       "5"
      ]
     },
     "execution_count": 7,
     "metadata": {},
     "output_type": "execute_result"
    }
   ],
   "source": [
    "# Selecting elements from a 2-D array using double [][] or [,] notation\n",
    "two_d_arr = np.array([[40,1,33,5],[90,2,15,6],[23,12,5,76]])\n",
    "\n",
    "two_d_arr[1,2] # getting the element 15 using double bracket notation\n",
    "\n",
    "two_d_arr[2,2] #getting the element 5 using the single bracket notation"
   ]
  },
  {
   "cell_type": "code",
   "execution_count": 18,
   "metadata": {},
   "outputs": [
    {
     "data": {
      "text/plain": [
       "array([[1., 1., 1., 1., 1.],\n",
       "       [1., 1., 1., 1., 1.],\n",
       "       [1., 1., 1., 1., 1.],\n",
       "       [1., 1., 1., 1., 1.]])"
      ]
     },
     "execution_count": 18,
     "metadata": {},
     "output_type": "execute_result"
    }
   ],
   "source": [
    "# Creating rsndon integers in a specific range\n",
    "\n",
    "np.random.randint(9, size=7) # 1-Dimensional\n",
    "\n",
    "np.random.randint(9, size=(3,3)) # 2- Dimensional\n",
    "\n",
    "# Creating random float between 0 and 1\n",
    "\n",
    "np.random.random(9)\n",
    "\n",
    "# Creating sample from a standard normal distribution\n",
    "\n",
    "np.random.randn(100)\n",
    "\n",
    "# Creating a matrix with a single element\n",
    "\n",
    "np.ones((4,5))"
   ]
  },
  {
   "cell_type": "code",
   "execution_count": 31,
   "metadata": {},
   "outputs": [
    {
     "data": {
      "text/plain": [
       "array([[0, 6, 6, 6],\n",
       "       [1, 2, 2, 3],\n",
       "       [1, 4, 4, 1],\n",
       "       [5, 0, 3, 2]])"
      ]
     },
     "execution_count": 31,
     "metadata": {},
     "output_type": "execute_result"
    }
   ],
   "source": [
    "# Manipulating array-- using ravel function to flatten a 2-D array\n",
    "two_d_array = np.random.randint(7, size=(4,4))\n",
    "\n",
    "# flattening the array above with ravel function\n",
    "two_d_array.ravel()\n",
    "\n",
    "# reshaping an array by specifying dimension\n",
    "two_d_array.reshape((2,8))\n",
    "\n",
    "# allowing numpy to reshape itself by using -1\n",
    "\n",
    "two_d_array.reshape(-1,4)\n",
    "\n",
    "# Transposing a matrix\n",
    "\n",
    "two_d_array.transpose()"
   ]
  },
  {
   "cell_type": "code",
   "execution_count": null,
   "metadata": {},
   "outputs": [],
   "source": []
  }
 ],
 "metadata": {
  "kernelspec": {
   "display_name": "Python 3",
   "language": "python",
   "name": "python3"
  },
  "language_info": {
   "codemirror_mode": {
    "name": "ipython",
    "version": 3
   },
   "file_extension": ".py",
   "mimetype": "text/x-python",
   "name": "python",
   "nbconvert_exporter": "python",
   "pygments_lexer": "ipython3",
   "version": "3.6.5"
  }
 },
 "nbformat": 4,
 "nbformat_minor": 2
}
